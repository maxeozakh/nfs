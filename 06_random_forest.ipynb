{
 "cells": [
  {
   "cell_type": "code",
   "execution_count": 73,
   "id": "58af6b60-5359-4bf7-8e22-243b58381709",
   "metadata": {},
   "outputs": [],
   "source": [
    "import numpy as np\n",
    "import pandas as pd\n",
    "import torch\n",
    "import zipfile\n",
    "import kaggle\n",
    "import os\n",
    "import math\n",
    "\n",
    "from pathlib import Path"
   ]
  },
  {
   "cell_type": "code",
   "execution_count": 178,
   "id": "12849bc2-4c7f-445e-8bc0-bfbda2eb7f81",
   "metadata": {},
   "outputs": [
    {
     "name": "stdout",
     "output_type": "stream",
     "text": [
      "hello we building random forest algo\n"
     ]
    }
   ],
   "source": [
    "print('hello we building random forest algo')"
   ]
  },
  {
   "cell_type": "code",
   "execution_count": 179,
   "id": "206a9c96-927a-4dd9-8a7b-764bda43c873",
   "metadata": {},
   "outputs": [
    {
     "name": "stdout",
     "output_type": "stream",
     "text": [
      "titanic.zip: Skipping, found more recently modified local copy (use --force to force download)\n"
     ]
    }
   ],
   "source": [
    "# Download dataset to use locally\n",
    "\n",
    "path = Path('titanic')\n",
    "extract_path = Path('data/titanic')\n",
    "if not path.exists():\n",
    "    kaggle.api.competition_download_cli(str(path))\n",
    "    zipfile.ZipFile(f'{path}.zip').extractall(extract_path)\n",
    "    \n",
    "assert os.path.isdir(extract_path) == True, f\"Directory '{path}' should be created at this point\"\n",
    "assert len(os.listdir(extract_path)) > 0, f\"Directory '{path}' is empty somehow, we expect files here\""
   ]
  },
  {
   "cell_type": "code",
   "execution_count": 180,
   "id": "f7e773e8-d788-4782-91af-78fdfbcae74b",
   "metadata": {},
   "outputs": [],
   "source": [
    "df = pd.read_csv(f'{extract_path}/train.csv')\n",
    "# df.head()"
   ]
  },
  {
   "cell_type": "code",
   "execution_count": 218,
   "id": "35d4fe81-19ff-4bc0-903b-0828fdc38f94",
   "metadata": {},
   "outputs": [
    {
     "data": {
      "text/html": [
       "<div>\n",
       "<style scoped>\n",
       "    .dataframe tbody tr th:only-of-type {\n",
       "        vertical-align: middle;\n",
       "    }\n",
       "\n",
       "    .dataframe tbody tr th {\n",
       "        vertical-align: top;\n",
       "    }\n",
       "\n",
       "    .dataframe thead th {\n",
       "        text-align: right;\n",
       "    }\n",
       "</style>\n",
       "<table border=\"1\" class=\"dataframe\">\n",
       "  <thead>\n",
       "    <tr style=\"text-align: right;\">\n",
       "      <th></th>\n",
       "      <th>PassengerId</th>\n",
       "      <th>Survived</th>\n",
       "      <th>Pclass</th>\n",
       "      <th>Name</th>\n",
       "      <th>Sex</th>\n",
       "      <th>Age</th>\n",
       "      <th>SibSp</th>\n",
       "      <th>Parch</th>\n",
       "      <th>Ticket</th>\n",
       "      <th>Fare</th>\n",
       "      <th>Cabin</th>\n",
       "      <th>Embarked</th>\n",
       "    </tr>\n",
       "  </thead>\n",
       "  <tbody>\n",
       "    <tr>\n",
       "      <th>0</th>\n",
       "      <td>1</td>\n",
       "      <td>0</td>\n",
       "      <td>3</td>\n",
       "      <td>Braund, Mr. Owen Harris</td>\n",
       "      <td>1</td>\n",
       "      <td>22.0</td>\n",
       "      <td>1</td>\n",
       "      <td>0</td>\n",
       "      <td>A/5 21171</td>\n",
       "      <td>7.2500</td>\n",
       "      <td>B96 B98</td>\n",
       "      <td>S</td>\n",
       "    </tr>\n",
       "    <tr>\n",
       "      <th>1</th>\n",
       "      <td>2</td>\n",
       "      <td>1</td>\n",
       "      <td>1</td>\n",
       "      <td>Cumings, Mrs. John Bradley (Florence Briggs Th...</td>\n",
       "      <td>0</td>\n",
       "      <td>38.0</td>\n",
       "      <td>1</td>\n",
       "      <td>0</td>\n",
       "      <td>PC 17599</td>\n",
       "      <td>71.2833</td>\n",
       "      <td>C85</td>\n",
       "      <td>C</td>\n",
       "    </tr>\n",
       "    <tr>\n",
       "      <th>2</th>\n",
       "      <td>3</td>\n",
       "      <td>1</td>\n",
       "      <td>3</td>\n",
       "      <td>Heikkinen, Miss. Laina</td>\n",
       "      <td>0</td>\n",
       "      <td>26.0</td>\n",
       "      <td>0</td>\n",
       "      <td>0</td>\n",
       "      <td>STON/O2. 3101282</td>\n",
       "      <td>7.9250</td>\n",
       "      <td>B96 B98</td>\n",
       "      <td>S</td>\n",
       "    </tr>\n",
       "    <tr>\n",
       "      <th>3</th>\n",
       "      <td>4</td>\n",
       "      <td>1</td>\n",
       "      <td>1</td>\n",
       "      <td>Futrelle, Mrs. Jacques Heath (Lily May Peel)</td>\n",
       "      <td>0</td>\n",
       "      <td>35.0</td>\n",
       "      <td>1</td>\n",
       "      <td>0</td>\n",
       "      <td>113803</td>\n",
       "      <td>53.1000</td>\n",
       "      <td>C123</td>\n",
       "      <td>S</td>\n",
       "    </tr>\n",
       "    <tr>\n",
       "      <th>4</th>\n",
       "      <td>5</td>\n",
       "      <td>0</td>\n",
       "      <td>3</td>\n",
       "      <td>Allen, Mr. William Henry</td>\n",
       "      <td>1</td>\n",
       "      <td>35.0</td>\n",
       "      <td>0</td>\n",
       "      <td>0</td>\n",
       "      <td>373450</td>\n",
       "      <td>8.0500</td>\n",
       "      <td>B96 B98</td>\n",
       "      <td>S</td>\n",
       "    </tr>\n",
       "  </tbody>\n",
       "</table>\n",
       "</div>"
      ],
      "text/plain": [
       "   PassengerId  Survived  Pclass  \\\n",
       "0            1         0       3   \n",
       "1            2         1       1   \n",
       "2            3         1       3   \n",
       "3            4         1       1   \n",
       "4            5         0       3   \n",
       "\n",
       "                                                Name  Sex   Age  SibSp  Parch  \\\n",
       "0                            Braund, Mr. Owen Harris    1  22.0      1      0   \n",
       "1  Cumings, Mrs. John Bradley (Florence Briggs Th...    0  38.0      1      0   \n",
       "2                             Heikkinen, Miss. Laina    0  26.0      0      0   \n",
       "3       Futrelle, Mrs. Jacques Heath (Lily May Peel)    0  35.0      1      0   \n",
       "4                           Allen, Mr. William Henry    1  35.0      0      0   \n",
       "\n",
       "             Ticket     Fare    Cabin Embarked  \n",
       "0         A/5 21171   7.2500  B96 B98        S  \n",
       "1          PC 17599  71.2833      C85        C  \n",
       "2  STON/O2. 3101282   7.9250  B96 B98        S  \n",
       "3            113803  53.1000     C123        S  \n",
       "4            373450   8.0500  B96 B98        S  "
      ]
     },
     "execution_count": 218,
     "metadata": {},
     "output_type": "execute_result"
    }
   ],
   "source": [
    "# Handle missing values in the dataset\n",
    "\n",
    "modes = df.mode().iloc[0]\n",
    "df.fillna(modes, inplace=True)\n",
    "# df.isna().sum()\n",
    "df.head()"
   ]
  },
  {
   "cell_type": "code",
   "execution_count": 182,
   "id": "b32fbb0c-c2c3-489a-ae57-aacf09b0accb",
   "metadata": {},
   "outputs": [],
   "source": [
    "# features = ['Pclass', 'Sex', 'Age', 'SibSp', 'Parch', 'Fare', 'Embarked']\n",
    "# For now we will work just with few cols, later we could try to extend\n",
    "features = ['Pclass', 'Sex', 'Age', 'SibSp', 'Parch', 'Fare']\n",
    "# sibsp\t-- # of siblings / spouses aboard the Titanic\n",
    "# parch -- # of parents / children aboard the Titanic\n",
    "# embarked -- Port of Embarkation C = Cherbourg, Q = Queenstown, S = Southampton"
   ]
  },
  {
   "cell_type": "code",
   "execution_count": 183,
   "id": "ac425cfe-c4cf-4466-b5ea-3dcc97642865",
   "metadata": {},
   "outputs": [],
   "source": [
    "df['Sex'] = df['Sex'].map({'male': 1, 'female': 0}).astype('Int8')"
   ]
  },
  {
   "cell_type": "code",
   "execution_count": 184,
   "id": "bb5ea3f7-90b5-450f-a867-b41d2d0bc4ca",
   "metadata": {},
   "outputs": [],
   "source": [
    "train_index = int(np.floor(0.9 * len(df)))\n",
    "\n",
    "X_tr = df[features][:train_index]\n",
    "Y_tr = df['Survived'][:train_index].values\n",
    "X_test = df[features][train_index:]\n",
    "Y_test = df['Survived'][train_index:].values"
   ]
  },
  {
   "cell_type": "code",
   "execution_count": 185,
   "id": "abb25c0b-ef54-47af-8d02-1cb6409cca18",
   "metadata": {},
   "outputs": [
    {
     "data": {
      "text/plain": [
       "(801, 6)"
      ]
     },
     "execution_count": 185,
     "metadata": {},
     "output_type": "execute_result"
    }
   ],
   "source": [
    "X_tr.shape"
   ]
  },
  {
   "cell_type": "code",
   "execution_count": 186,
   "id": "c43f4d12-41d2-45a7-996f-1aad9f8a7672",
   "metadata": {},
   "outputs": [
    {
     "data": {
      "text/plain": [
       "{0: 'Pclass', 1: 'Sex', 2: 'Age', 3: 'SibSp', 4: 'Parch', 5: 'Fare'}"
      ]
     },
     "execution_count": 186,
     "metadata": {},
     "output_type": "execute_result"
    }
   ],
   "source": [
    "i_to_column = {i: c for i,c in enumerate(X_tr.columns)}\n",
    "i_to_column"
   ]
  },
  {
   "cell_type": "code",
   "execution_count": 187,
   "id": "04971fbf-c725-47db-86e4-76f454777c19",
   "metadata": {},
   "outputs": [],
   "source": [
    "#convert df to tenrsors\n",
    "if isinstance(X_tr, pd.DataFrame):\n",
    "    X_tr = torch.tensor(X_tr.astype(np.float32).values, dtype=torch.float32)\n",
    "    Y_tr = torch.tensor(Y_tr, dtype=torch.float32)"
   ]
  },
  {
   "cell_type": "code",
   "execution_count": 188,
   "id": "5c9b422f-a3bb-424f-8a80-4af50c28adc4",
   "metadata": {},
   "outputs": [],
   "source": [
    "def oob_score(tree, x, y):\n",
    "    mis_label = 0\n",
    "    for i in range(len(x)):\n",
    "        pred = predict_tree(tree, x[i])\n",
    "        if pred != y[i]:\n",
    "            mis_label += 1\n",
    "    return mis_label / len(x)"
   ]
  },
  {
   "cell_type": "code",
   "execution_count": 189,
   "id": "fa363d8d-12a7-42ac-97fb-59901fd28b45",
   "metadata": {},
   "outputs": [],
   "source": [
    "def entropy(p):\n",
    "    '''\n",
    "    How uncertain our split is. If values are 50/50 -- very uncertain, 1. \n",
    "    If nearly all values are the same (99/1) -- certainty is high, very low entropy value\n",
    "    '''\n",
    "    if p == 0 or p == 1:\n",
    "        return 0\n",
    "        \n",
    "    else:\n",
    "        return - (p * np.log2(p) + (1 - p) * np.log2(1-p))\n",
    "\n",
    "assert entropy(.5) == 1\n",
    "assert entropy(.99) < 0.1"
   ]
  },
  {
   "cell_type": "code",
   "execution_count": 190,
   "id": "559d018f-747c-4be8-934d-00f1e2b231e9",
   "metadata": {},
   "outputs": [],
   "source": [
    "def information_gain(left_child, right_child):\n",
    "    '''\n",
    "    Calculates how much uncertainty is reduced by doing the split. Higher gain = better split.\n",
    "    Assumes binary classification with labels 0 and 1.\n",
    "    '''\n",
    "\n",
    "    # Combine both child sets to get the parent\n",
    "    parent = torch.cat((left_child, right_child), dim=0)\n",
    "\n",
    "    def proportion_ones(t):\n",
    "        if t.numel() == 0:\n",
    "            return 0\n",
    "        return torch.sum(t == 1).item() / t.numel() \n",
    "\n",
    "    # Proportions of class 1\n",
    "    p_parent = proportion_ones(parent)\n",
    "    p_left = proportion_ones(left_child)\n",
    "    p_right = proportion_ones(right_child)\n",
    "\n",
    "    # Entropies\n",
    "    IG_p = entropy(p_parent)\n",
    "    IG_l = entropy(p_left)\n",
    "    IG_r = entropy(p_right)\n",
    "\n",
    "    # Weights\n",
    "    l_weight = left_child.numel() / parent.numel()\n",
    "    r_weight = right_child.numel() / parent.numel()\n",
    "\n",
    "    return IG_p - l_weight * IG_l - r_weight * IG_r"
   ]
  },
  {
   "cell_type": "code",
   "execution_count": 216,
   "id": "55d5690c-3f53-433c-9b62-656532e04840",
   "metadata": {},
   "outputs": [],
   "source": [
    "class DecisionTree:\n",
    "    def __init__(self, x, y,max_depth=5, min_samples_split=2):\n",
    "        self.max_depth = max_depth\n",
    "        self.min_samples_split = min_samples_split\n",
    "\n",
    "        # ===== subset of features for each tree =====\n",
    "        fts_len = len(features)\n",
    "        fts_indices = range(0, fts_len)\n",
    "        n_fts = round(fts_len * .75)\n",
    "        self.fts = np.random.choice(fts_indices, n_fts, replace=False)\n",
    "\n",
    "\n",
    "        # ===== bagging =====\n",
    "        # TODO: potential easier way to init this stuff but i'm not sure rn\n",
    "        # n = len(x)\n",
    "        # indices = np.random.choice(n, size=n, replace=True)\n",
    "        # # out-of-bag, for validation\n",
    "        # oob_indices = [i for i in range(len(x)) if i not in indices]\n",
    "        # return x[indices], y[indices], x[oob_indices], y[oob_indices]\n",
    "\n",
    "        x_len = len(x)\n",
    "        bootstrap_indices = list(set((np.random.choice(range(x_len), x_len, replace=True))))\n",
    "        # out-of-bag, for validation\n",
    "        oob_indices = [i for i in range(len(x)) if i not in bootstrap_indices]\n",
    "        self.X = x[bootstrap_indices]\n",
    "        self.Y = y[bootstrap_indices]\n",
    "        self.X_oob = x[oob_indices]\n",
    "        self.y_oob = y[oob_indices]\n",
    "\n",
    "    def the_loop(self):\n",
    "        for ft_index in self.fts:\n",
    "            self.find_best_split(ft_index)\n",
    "\n",
    "        \n",
    "\n",
    "    def find_best_split(self, feature_index, depth=0):\n",
    "        x = self.X\n",
    "        y = self.Y\n",
    "        \n",
    "        if depth == self.max_depth:\n",
    "            return 0\n",
    "\n",
    "        best_split = None\n",
    "        best_feature_index = None\n",
    "        ig_max = -9999\n",
    "        \n",
    "        possible_splits = x[:, feature_index].unique()\n",
    "\n",
    "        for split in possible_splits:\n",
    "            left_mask = x[:, feature_index] <= split\n",
    "            right_mask = x[:, feature_index] > split\n",
    "            \n",
    "            left = x[left_mask]\n",
    "            right = x[right_mask]\n",
    "            \n",
    "            ig = information_gain(left, right)\n",
    "            \n",
    "            if ig > ig_max:\n",
    "                ig_max = ig\n",
    "                best_split = split\n",
    "                best_feature_index = feature_index\n",
    "\n",
    "        print(best_split)\n",
    "        return best_split"
   ]
  },
  {
   "cell_type": "code",
   "execution_count": 217,
   "id": "eae78653-6390-47d2-8398-23466e959ffd",
   "metadata": {},
   "outputs": [
    {
     "name": "stdout",
     "output_type": "stream",
     "text": [
      "tensor(33.)\n",
      "tensor(1.)\n",
      "tensor(14.)\n",
      "tensor(0.)\n"
     ]
    }
   ],
   "source": [
    "tree = DecisionTree(x=X_tr, y=Y_tr)\n",
    "tree.the_loop()"
   ]
  },
  {
   "cell_type": "code",
   "execution_count": null,
   "id": "a4eb342e-1b60-4f4c-9202-aa788a6015ac",
   "metadata": {},
   "outputs": [],
   "source": []
  },
  {
   "cell_type": "code",
   "execution_count": null,
   "id": "798292f7-9792-42aa-a344-fed76474eae6",
   "metadata": {},
   "outputs": [],
   "source": []
  },
  {
   "cell_type": "code",
   "execution_count": null,
   "id": "6439bda8-b358-427a-803e-5ef8520a28e7",
   "metadata": {},
   "outputs": [],
   "source": []
  }
 ],
 "metadata": {
  "kernelspec": {
   "display_name": "Python 3 (ipykernel)",
   "language": "python",
   "name": "python3"
  },
  "language_info": {
   "codemirror_mode": {
    "name": "ipython",
    "version": 3
   },
   "file_extension": ".py",
   "mimetype": "text/x-python",
   "name": "python",
   "nbconvert_exporter": "python",
   "pygments_lexer": "ipython3",
   "version": "3.11.11"
  }
 },
 "nbformat": 4,
 "nbformat_minor": 5
}
