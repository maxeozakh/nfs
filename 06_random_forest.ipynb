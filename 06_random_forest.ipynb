{
 "cells": [
  {
   "cell_type": "code",
   "execution_count": 1,
   "id": "58af6b60-5359-4bf7-8e22-243b58381709",
   "metadata": {},
   "outputs": [
    {
     "name": "stdout",
     "output_type": "stream",
     "text": [
      "Warning: Your Kaggle API key is readable by other users on this system! To fix this, you can run 'chmod 600 /Users/maxeo/.kaggle/kaggle.json'\n"
     ]
    }
   ],
   "source": [
    "import numpy as np\n",
    "import pandas as pd\n",
    "import torch\n",
    "import zipfile\n",
    "import kaggle\n",
    "import os\n",
    "import math\n",
    "\n",
    "from pathlib import Path"
   ]
  },
  {
   "cell_type": "code",
   "execution_count": 2,
   "id": "12849bc2-4c7f-445e-8bc0-bfbda2eb7f81",
   "metadata": {},
   "outputs": [
    {
     "name": "stdout",
     "output_type": "stream",
     "text": [
      "hello we building random forest algo\n"
     ]
    }
   ],
   "source": [
    "print('hello we building random forest algo')"
   ]
  },
  {
   "cell_type": "code",
   "execution_count": 3,
   "id": "206a9c96-927a-4dd9-8a7b-764bda43c873",
   "metadata": {},
   "outputs": [
    {
     "name": "stdout",
     "output_type": "stream",
     "text": [
      "titanic.zip: Skipping, found more recently modified local copy (use --force to force download)\n"
     ]
    }
   ],
   "source": [
    "# Download dataset to use locally\n",
    "\n",
    "path = Path('titanic')\n",
    "extract_path = Path('data/titanic')\n",
    "if not path.exists():\n",
    "    kaggle.api.competition_download_cli(str(path))\n",
    "    zipfile.ZipFile(f'{path}.zip').extractall(extract_path)\n",
    "    \n",
    "assert os.path.isdir(extract_path) == True, f\"Directory '{path}' should be created at this point\"\n",
    "assert len(os.listdir(extract_path)) > 0, f\"Directory '{path}' is empty somehow, we expect files here\""
   ]
  },
  {
   "cell_type": "code",
   "execution_count": 4,
   "id": "f7e773e8-d788-4782-91af-78fdfbcae74b",
   "metadata": {},
   "outputs": [],
   "source": [
    "df = pd.read_csv(f'{extract_path}/train.csv')\n",
    "# df.head()"
   ]
  },
  {
   "cell_type": "code",
   "execution_count": 5,
   "id": "35d4fe81-19ff-4bc0-903b-0828fdc38f94",
   "metadata": {},
   "outputs": [],
   "source": [
    "# Handle missing values in the dataset\n",
    "\n",
    "modes = df.mode().iloc[0]\n",
    "df.fillna(modes, inplace=True)\n",
    "# df.isna().sum()\n",
    "# df.head()"
   ]
  },
  {
   "cell_type": "code",
   "execution_count": 88,
   "id": "b32fbb0c-c2c3-489a-ae57-aacf09b0accb",
   "metadata": {},
   "outputs": [],
   "source": [
    "features = ['Pclass', 'Sex', 'Age', 'SibSp', 'Parch', 'Fare', 'Embarked']\n",
    "# sibsp\t-- # of siblings / spouses aboard the Titanic\n",
    "# parch -- # of parents / children aboard the Titanic\n",
    "# embarked -- Port of Embarkation C = Cherbourg, Q = Queenstown, S = Southampton"
   ]
  },
  {
   "cell_type": "code",
   "execution_count": 104,
   "id": "bb5ea3f7-90b5-450f-a867-b41d2d0bc4ca",
   "metadata": {},
   "outputs": [],
   "source": [
    "train_index = int(np.floor(0.9 * len(df)))\n",
    "\n",
    "X_tr = df[features][:train_index]\n",
    "Y_tr = df['Survived'][:train_index].values\n",
    "X_test = df[features][train_index:]\n",
    "Y_test = df['Survived'][train_index:].values"
   ]
  },
  {
   "cell_type": "code",
   "execution_count": 105,
   "id": "abb25c0b-ef54-47af-8d02-1cb6409cca18",
   "metadata": {},
   "outputs": [
    {
     "data": {
      "text/html": [
       "<div>\n",
       "<style scoped>\n",
       "    .dataframe tbody tr th:only-of-type {\n",
       "        vertical-align: middle;\n",
       "    }\n",
       "\n",
       "    .dataframe tbody tr th {\n",
       "        vertical-align: top;\n",
       "    }\n",
       "\n",
       "    .dataframe thead th {\n",
       "        text-align: right;\n",
       "    }\n",
       "</style>\n",
       "<table border=\"1\" class=\"dataframe\">\n",
       "  <thead>\n",
       "    <tr style=\"text-align: right;\">\n",
       "      <th></th>\n",
       "      <th>Pclass</th>\n",
       "      <th>Sex</th>\n",
       "      <th>Age</th>\n",
       "      <th>SibSp</th>\n",
       "      <th>Parch</th>\n",
       "      <th>Fare</th>\n",
       "      <th>Embarked</th>\n",
       "    </tr>\n",
       "  </thead>\n",
       "  <tbody>\n",
       "    <tr>\n",
       "      <th>0</th>\n",
       "      <td>3</td>\n",
       "      <td>male</td>\n",
       "      <td>22.0</td>\n",
       "      <td>1</td>\n",
       "      <td>0</td>\n",
       "      <td>7.2500</td>\n",
       "      <td>S</td>\n",
       "    </tr>\n",
       "    <tr>\n",
       "      <th>1</th>\n",
       "      <td>1</td>\n",
       "      <td>female</td>\n",
       "      <td>38.0</td>\n",
       "      <td>1</td>\n",
       "      <td>0</td>\n",
       "      <td>71.2833</td>\n",
       "      <td>C</td>\n",
       "    </tr>\n",
       "    <tr>\n",
       "      <th>2</th>\n",
       "      <td>3</td>\n",
       "      <td>female</td>\n",
       "      <td>26.0</td>\n",
       "      <td>0</td>\n",
       "      <td>0</td>\n",
       "      <td>7.9250</td>\n",
       "      <td>S</td>\n",
       "    </tr>\n",
       "    <tr>\n",
       "      <th>3</th>\n",
       "      <td>1</td>\n",
       "      <td>female</td>\n",
       "      <td>35.0</td>\n",
       "      <td>1</td>\n",
       "      <td>0</td>\n",
       "      <td>53.1000</td>\n",
       "      <td>S</td>\n",
       "    </tr>\n",
       "    <tr>\n",
       "      <th>4</th>\n",
       "      <td>3</td>\n",
       "      <td>male</td>\n",
       "      <td>35.0</td>\n",
       "      <td>0</td>\n",
       "      <td>0</td>\n",
       "      <td>8.0500</td>\n",
       "      <td>S</td>\n",
       "    </tr>\n",
       "    <tr>\n",
       "      <th>...</th>\n",
       "      <td>...</td>\n",
       "      <td>...</td>\n",
       "      <td>...</td>\n",
       "      <td>...</td>\n",
       "      <td>...</td>\n",
       "      <td>...</td>\n",
       "      <td>...</td>\n",
       "    </tr>\n",
       "    <tr>\n",
       "      <th>796</th>\n",
       "      <td>1</td>\n",
       "      <td>female</td>\n",
       "      <td>49.0</td>\n",
       "      <td>0</td>\n",
       "      <td>0</td>\n",
       "      <td>25.9292</td>\n",
       "      <td>S</td>\n",
       "    </tr>\n",
       "    <tr>\n",
       "      <th>797</th>\n",
       "      <td>3</td>\n",
       "      <td>female</td>\n",
       "      <td>31.0</td>\n",
       "      <td>0</td>\n",
       "      <td>0</td>\n",
       "      <td>8.6833</td>\n",
       "      <td>S</td>\n",
       "    </tr>\n",
       "    <tr>\n",
       "      <th>798</th>\n",
       "      <td>3</td>\n",
       "      <td>male</td>\n",
       "      <td>30.0</td>\n",
       "      <td>0</td>\n",
       "      <td>0</td>\n",
       "      <td>7.2292</td>\n",
       "      <td>C</td>\n",
       "    </tr>\n",
       "    <tr>\n",
       "      <th>799</th>\n",
       "      <td>3</td>\n",
       "      <td>female</td>\n",
       "      <td>30.0</td>\n",
       "      <td>1</td>\n",
       "      <td>1</td>\n",
       "      <td>24.1500</td>\n",
       "      <td>S</td>\n",
       "    </tr>\n",
       "    <tr>\n",
       "      <th>800</th>\n",
       "      <td>2</td>\n",
       "      <td>male</td>\n",
       "      <td>34.0</td>\n",
       "      <td>0</td>\n",
       "      <td>0</td>\n",
       "      <td>13.0000</td>\n",
       "      <td>S</td>\n",
       "    </tr>\n",
       "  </tbody>\n",
       "</table>\n",
       "<p>801 rows × 7 columns</p>\n",
       "</div>"
      ],
      "text/plain": [
       "     Pclass     Sex   Age  SibSp  Parch     Fare Embarked\n",
       "0         3    male  22.0      1      0   7.2500        S\n",
       "1         1  female  38.0      1      0  71.2833        C\n",
       "2         3  female  26.0      0      0   7.9250        S\n",
       "3         1  female  35.0      1      0  53.1000        S\n",
       "4         3    male  35.0      0      0   8.0500        S\n",
       "..      ...     ...   ...    ...    ...      ...      ...\n",
       "796       1  female  49.0      0      0  25.9292        S\n",
       "797       3  female  31.0      0      0   8.6833        S\n",
       "798       3    male  30.0      0      0   7.2292        C\n",
       "799       3  female  30.0      1      1  24.1500        S\n",
       "800       2    male  34.0      0      0  13.0000        S\n",
       "\n",
       "[801 rows x 7 columns]"
      ]
     },
     "execution_count": 105,
     "metadata": {},
     "output_type": "execute_result"
    }
   ],
   "source": [
    "X_tr"
   ]
  },
  {
   "cell_type": "code",
   "execution_count": 109,
   "id": "04971fbf-c725-47db-86e4-76f454777c19",
   "metadata": {},
   "outputs": [],
   "source": [
    "# df to tenrsors\n",
    "if isinstance(X_tr, pd.DataFrame):\n",
    "    X_tr = pd.get_dummies(X_tr, columns=['Sex', 'Embarked'])\n",
    "    i_to_column = {i: c for i,c in enumerate(X_tr.columns)}\n",
    "    X_tr = torch.tensor(X_tr.astype(np.float32).values, dtype=torch.float32)\n",
    "    Y_tr = torch.tensor(Y_tr, dtype=torch.float32)"
   ]
  },
  {
   "cell_type": "code",
   "execution_count": 110,
   "id": "7fa855e3-b9dd-45fd-ab32-277a38c2db09",
   "metadata": {},
   "outputs": [
    {
     "name": "stdout",
     "output_type": "stream",
     "text": [
      "{0: 'Pclass', 1: 'Age', 2: 'SibSp', 3: 'Parch', 4: 'Fare', 5: 'Sex_female', 6: 'Sex_male', 7: 'Embarked_C', 8: 'Embarked_Q', 9: 'Embarked_S'}\n"
     ]
    }
   ],
   "source": [
    "print(i_to_column)"
   ]
  },
  {
   "cell_type": "code",
   "execution_count": 111,
   "id": "9feb65f2-93b6-47e2-82bc-d474f36bdf46",
   "metadata": {},
   "outputs": [],
   "source": [
    "class Sampler:\n",
    "    def bootstrap(self, x, y):\n",
    "        n = len(x)\n",
    "        indices = np.random.choice(n, size=n, replace=True)\n",
    "        return x[indices], y[indices]"
   ]
  },
  {
   "cell_type": "code",
   "execution_count": 112,
   "id": "19906342-8e07-4af4-8d28-3a7f6ff9ab6a",
   "metadata": {},
   "outputs": [],
   "source": [
    "sampler = Sampler()"
   ]
  },
  {
   "cell_type": "code",
   "execution_count": 113,
   "id": "568223e2-b32c-4837-b6ef-f07a9371751e",
   "metadata": {},
   "outputs": [],
   "source": [
    "X_tr, Y_tr = sampler.bootstrap(X_tr, Y_tr)"
   ]
  },
  {
   "cell_type": "code",
   "execution_count": 114,
   "id": "19a15359-4f5b-47a1-90b5-e11a7d67a812",
   "metadata": {},
   "outputs": [
    {
     "data": {
      "text/plain": [
       "tensor([ 3.0000, 30.0000,  0.0000,  0.0000,  8.0500,  0.0000,  1.0000,  0.0000,\n",
       "         0.0000,  1.0000])"
      ]
     },
     "execution_count": 114,
     "metadata": {},
     "output_type": "execute_result"
    }
   ],
   "source": [
    "X_tr[0]"
   ]
  },
  {
   "cell_type": "code",
   "execution_count": 132,
   "id": "fa363d8d-12a7-42ac-97fb-59901fd28b45",
   "metadata": {},
   "outputs": [],
   "source": [
    "def entropy(p):\n",
    "    '''\n",
    "    How uncertain our split is. If values are 50/50 -- very uncertain, 1. \n",
    "    If nearly all values are the same -- certainty is high, low entr\n",
    "    '''\n",
    "    if p == 0:\n",
    "        return 0\n",
    "    elif p == 1:\n",
    "        return 0\n",
    "    else:\n",
    "        return - (p * np.log2(p) + (1 - p) * np.log2(1-p))\n",
    "\n",
    "assert entropy(.5) == 1\n",
    "assert entropy(.99) < 0.1"
   ]
  },
  {
   "cell_type": "code",
   "execution_count": 168,
   "id": "559d018f-747c-4be8-934d-00f1e2b231e9",
   "metadata": {},
   "outputs": [],
   "source": [
    "def information_gain(left_child, right_child):\n",
    "    '''\n",
    "    Calculates how much uncertainty is reduced by doing the split. Higher gain = better split.\n",
    "    Assumes binary classification with labels 0 and 1.\n",
    "    '''\n",
    "\n",
    "    # Combine both child sets to get the parent\n",
    "    parent = torch.cat((left_child, right_child), dim=0)\n",
    "\n",
    "    # Safeguard against division by zero\n",
    "    def proportion_ones(t):\n",
    "        return torch.sum(t == 1).item() / t.numel() if t.numel() > 0 else 0.0\n",
    "\n",
    "    # Proportions of class 1\n",
    "    p_parent = proportion_ones(parent)\n",
    "    p_left = proportion_ones(left_child)\n",
    "    p_right = proportion_ones(right_child)\n",
    "\n",
    "    # Entropies\n",
    "    IG_p = entropy(p_parent)\n",
    "    IG_l = entropy(p_left)\n",
    "    IG_r = entropy(p_right)\n",
    "\n",
    "    # Weights\n",
    "    l_weight = left_child.numel() / parent.numel()\n",
    "    r_weight = right_child.numel() / parent.numel()\n",
    "\n",
    "    return IG_p - l_weight * IG_l - r_weight * IG_r"
   ]
  },
  {
   "cell_type": "code",
   "execution_count": 133,
   "id": "093dddc1-ad44-4c50-b432-d0fe6ffae62f",
   "metadata": {},
   "outputs": [],
   "source": [
    "def information_gain(left_child, right_child):\n",
    "    '''\n",
    "    It tells us how much \"uncertainty\" is reduced by doing the split. Higher gain = better split.\n",
    "    '''\n",
    "    \n",
    "    # original set before split\n",
    "    parent = left_child + right_child \n",
    "\n",
    "    # propostions in the original set, on the left and right splits\n",
    "    p_parent = parent.count(1) / len(parent) if len(parent) > 0 else 0\n",
    "    p_left = left_child.count(1) / len(left_child) if len(left_child) > 0 else 0\n",
    "    p_right = right_child.count(1) / len(right_child) if len(right_child) > 0 else 0\n",
    "    \n",
    "    IG_p = entropy(p_parent)\n",
    "    IG_l = entropy(p_left)\n",
    "    IG_r = entropy(p_right)\n",
    "    \n",
    "    l_weight = len(left_child) / len(parent)\n",
    "    r_weight = len(right_child) / len(parent)\n",
    "    \n",
    "    return IG_p - l_weight * IG_l - r_weight * IG_r"
   ]
  },
  {
   "cell_type": "code",
   "execution_count": 182,
   "id": "55d5690c-3f53-433c-9b62-656532e04840",
   "metadata": {},
   "outputs": [],
   "source": [
    "class DecisionTree:\n",
    "    def __init__(self, max_depth=5, min_samples_split=2, feature_subsample=None):\n",
    "        self.max_depth = max_depth\n",
    "        self.min_samples_split = min_samples_split\n",
    "        self.feature_subsample = feature_subsample\n",
    "\n",
    "    def straightforward(self, x, y, depth):\n",
    "        if depth == self.max_depth:\n",
    "            return 0\n",
    "\n",
    "        best_split = None\n",
    "        ig_max = -9999\n",
    "        \n",
    "        for feature in self.feature_subsample:\n",
    "            possible_splits = x[:, feature].unique()\n",
    "\n",
    "            for split in possible_splits:\n",
    "                left_mask = x[:, feature] <= split\n",
    "                right_mask = x[:, feature] > split\n",
    "                \n",
    "                left = x[left_mask]\n",
    "                right = x[right_mask]\n",
    "                \n",
    "                ig = information_gain(left, right)\n",
    "                \n",
    "                if ig > ig_max:\n",
    "                    ig_max = ig\n",
    "                    best_split = split\n",
    "\n",
    "        straightforward(self, \n",
    "\n",
    "\n",
    "            \n",
    "        \n",
    "    \n",
    "    def fit(self, x, y):\n",
    "        # Entry point — builds the tree recursively\n",
    "        return 0\n",
    "\n",
    "    def _best_split(self, x, y, features):\n",
    "        # Try all features and thresholds, return best info gain split\n",
    "        return 0\n",
    "\n",
    "    def _build_tree(self, x, y, depth):\n",
    "        # Recursively build tree nodes\n",
    "        return 0\n",
    "\n",
    "    def predict(self, x):\n",
    "        # Traverse the built tree for one sample\n",
    "        return 0\n"
   ]
  },
  {
   "cell_type": "code",
   "execution_count": 179,
   "id": "eae78653-6390-47d2-8398-23466e959ffd",
   "metadata": {},
   "outputs": [],
   "source": [
    "tree = DecisionTree(feature_subsample=[0,1,2])"
   ]
  },
  {
   "cell_type": "code",
   "execution_count": 180,
   "id": "f75c0070-f5e8-413b-b071-135c61c4f92c",
   "metadata": {},
   "outputs": [
    {
     "name": "stdout",
     "output_type": "stream",
     "text": [
      "0.008278304605820352\n",
      "0.004865368629391242\n",
      "0.0\n",
      "1.4150037967897156e-05\n",
      "0.00014535822069361437\n",
      "0.0002977953583942483\n",
      "0.00043297558988819596\n",
      "0.0003734745106582782\n",
      "0.000381033891895477\n",
      "0.0003886322906273554\n",
      "0.00037654113281848645\n",
      "0.0003755651842836105\n",
      "0.0002799874750366582\n",
      "0.0002129285627112676\n",
      "0.00019332218245016186\n",
      "0.00016451488526492142\n",
      "0.00020197507263808312\n",
      "0.00032002380566986677\n",
      "0.0003061066212854957\n",
      "0.0003827205216976326\n",
      "0.00030263787192053027\n",
      "0.0002467094525999691\n",
      "0.00018920765354735192\n",
      "6.451719405242695e-05\n",
      "1.539125940386299e-05\n",
      "2.0253958822213924e-05\n",
      "1.7384675270015748e-05\n",
      "0.0002214938608304795\n",
      "0.00023028365692884245\n",
      "0.00020385913271331324\n",
      "0.00026543541735940535\n",
      "0.0003730283503298182\n",
      "0.000555318365714097\n",
      "0.0005700126067113009\n",
      "0.0006884439508646478\n",
      "0.00098150011896464\n",
      "0.001002373670004164\n",
      "0.0010548840669642456\n",
      "0.0013918279429539493\n",
      "0.001405958234196536\n",
      "0.0015081309094884254\n",
      "0.0014415847949122984\n",
      "0.001287846944596105\n",
      "0.0011182393248730937\n",
      "0.0010601880923733764\n",
      "0.001116162351962935\n",
      "0.0008894590183150253\n",
      "0.0007971627014203286\n",
      "0.0008516797721501157\n",
      "0.0009090099286026831\n",
      "0.0009556063935928089\n",
      "0.0008540845250283452\n",
      "0.0008416729804475998\n",
      "0.0007679418491035178\n",
      "0.0007731862172230541\n",
      "0.0007551508970810861\n",
      "0.000701681289929007\n",
      "0.0005514305612361048\n",
      "0.00037524076387580874\n",
      "0.00024888931886478394\n",
      "0.000264491283931613\n",
      "0.0002414601521465512\n",
      "0.0002262525634385837\n",
      "0.00016669363008437604\n",
      "0.00024320466032456967\n",
      "0.00023551821340227902\n",
      "0.00026605065815298035\n",
      "0.00020553847711034592\n",
      "0.000324574207868817\n",
      "7.4893139874143e-05\n",
      "6.079612089541532e-05\n",
      "6.42555611385983e-05\n",
      "9.806114938608682e-05\n",
      "9.157237844875481e-05\n",
      "7.954458139378551e-05\n",
      "3.87870635237212e-06\n",
      "2.1252479956899127e-05\n",
      "1.41500379679106e-05\n",
      "0.0\n",
      "0.00842091592947003\n",
      "2.291972679274723e-05\n",
      "8.271952584015807e-08\n",
      "5.6015771704095996e-06\n",
      "5.659641822772666e-05\n",
      "3.6354341934587576e-05\n",
      "0.0\n"
     ]
    }
   ],
   "source": [
    "tree.straightforward(X_tr, Y_tr)"
   ]
  },
  {
   "cell_type": "code",
   "execution_count": null,
   "id": "8ba476c8-608d-44a4-ab72-57ca9aa65610",
   "metadata": {},
   "outputs": [],
   "source": []
  },
  {
   "cell_type": "code",
   "execution_count": null,
   "id": "d665a2d3-cdbc-46e4-9b3a-20e6008b8314",
   "metadata": {},
   "outputs": [],
   "source": []
  }
 ],
 "metadata": {
  "kernelspec": {
   "display_name": "Python 3 (ipykernel)",
   "language": "python",
   "name": "python3"
  },
  "language_info": {
   "codemirror_mode": {
    "name": "ipython",
    "version": 3
   },
   "file_extension": ".py",
   "mimetype": "text/x-python",
   "name": "python",
   "nbconvert_exporter": "python",
   "pygments_lexer": "ipython3",
   "version": "3.11.11"
  }
 },
 "nbformat": 4,
 "nbformat_minor": 5
}
